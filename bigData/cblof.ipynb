{
 "cells": [
  {
   "cell_type": "markdown",
   "id": "d712e85c",
   "metadata": {},
   "source": [
    "# Cluster basted Local Outlier Factor(CBLOF)"
   ]
  },
  {
   "cell_type": "markdown",
   "id": "15e0b74e",
   "metadata": {},
   "source": [
    "#....\n"
   ]
  },
  {
   "cell_type": "markdown",
   "id": "aaeef852",
   "metadata": {},
   "source": [
    "## Импортируем библеотеки\n"
   ]
  },
  {
   "cell_type": "code",
   "execution_count": 2,
   "id": "35553e52",
   "metadata": {},
   "outputs": [],
   "source": [
    "import numpy as np\n",
    "import matplotlib.pyplot as plt\n",
    "%matplotlib inline"
   ]
  },
  {
   "cell_type": "markdown",
   "id": "6407ba1e",
   "metadata": {},
   "source": [
    "## Сгенерируем случайные данные "
   ]
  },
  {
   "cell_type": "markdown",
   "id": "b6c56519",
   "metadata": {},
   "source": [
    "#### Иницируем новыц генрератор"
   ]
  },
  {
   "cell_type": "code",
   "execution_count": 4,
   "id": "ab7e8f3a",
   "metadata": {},
   "outputs": [],
   "source": [
    "np.random.seed(42)\n"
   ]
  },
  {
   "cell_type": "markdown",
   "id": "38b713e7",
   "metadata": {},
   "source": [
    "#### Сгенерируем две выборки нормальных значений обьединим их в два кластера"
   ]
  },
  {
   "cell_type": "code",
   "execution_count": 5,
   "id": "48c91fc0",
   "metadata": {},
   "outputs": [],
   "source": [
    "X_inliers = 0.3 * np.random.randn (100,2)\n",
    "X_inliers = np.r_[X_inliers + 2,X_inliers -2 ] \n"
   ]
  },
  {
   "cell_type": "code",
   "execution_count": 7,
   "id": "e84cbd3e",
   "metadata": {},
   "outputs": [
    {
     "data": {
      "image/png": "[encoded data removed]",
      "text/plain": [
       "<Figure size 432x288 with 1 Axes>"
      ]
     },
     "metadata": {
      "needs_background": "light"
     },
     "output_type": "display_data"
    }
   ],
   "source": [
    "plt.hist(X_inliers)\n",
    "plt.show()"
   ]
  },
  {
   "cell_type": "markdown",
   "id": "f7698fe0",
   "metadata": {},
   "source": [
    "### Сгенерируем нек аномалии (выбросы -outliers)"
   ]
  },
  {
   "cell_type": "code",
   "execution_count": 22,
   "id": "17e66f8f",
   "metadata": {},
   "outputs": [],
   "source": [
    "X_outliers = np.random.uniform(low =-4,high =4,size =(20,2))\n",
    "X = np.r_[X_inliers,X_outliers]"
   ]
  },
  {
   "cell_type": "code",
   "execution_count": 26,
   "id": "b2393dde",
   "metadata": {},
   "outputs": [
    {
     "data": {
      "image/png": "[encoded data removed]",
      "text/plain": [
       "<Figure size 432x288 with 1 Axes>"
      ]
     },
     "metadata": {
      "needs_background": "light"
     },
     "output_type": "display_data"
    }
   ],
   "source": [
    "plt.hist(X)\n",
    "plt.show()"
   ]
  },
  {
   "cell_type": "markdown",
   "id": "0c73cb67",
   "metadata": {},
   "source": [
    "### Подсчитаем кол во выбросов и пометим их -1 (правильные знач 1)"
   ]
  },
  {
   "cell_type": "code",
   "execution_count": 27,
   "id": "1178c23e",
   "metadata": {},
   "outputs": [],
   "source": [
    "n_outliers = len(X_outliers)"
   ]
  },
  {
   "cell_type": "code",
   "execution_count": 29,
   "id": "0dd60c34",
   "metadata": {},
   "outputs": [],
   "source": [
    "ground_truth = np.ones(len(X), dtype = int)\n",
    "ground_truth[-n_outliers:] = -1"
   ]
  },
  {
   "cell_type": "markdown",
   "id": "466712a9",
   "metadata": {},
   "source": [
    "### Построим модель для выявления выбросов (по умолчанию число соседей = 20 , contamination или засоренность данных =0.1)"
   ]
  },
  {
   "cell_type": "code",
   "execution_count": 40,
   "id": "fce54e01",
   "metadata": {},
   "outputs": [
    {
     "ename": "ModuleNotFoundError",
     "evalue": "No module named 'pyod'",
     "output_type": "error",
     "traceback": [
      "\u001b[1;31m---------------------------------------------------------------------------\u001b[0m",
      "\u001b[1;31mModuleNotFoundError\u001b[0m                       Traceback (most recent call last)",
      "\u001b[1;32m~\\AppData\\Local\\Temp/ipykernel_7052/1025544665.py\u001b[0m in \u001b[0;36m<module>\u001b[1;34m\u001b[0m\n\u001b[1;32m----> 1\u001b[1;33m \u001b[1;32mfrom\u001b[0m \u001b[0mpyod\u001b[0m\u001b[1;33m.\u001b[0m\u001b[0mmodels\u001b[0m\u001b[1;33m.\u001b[0m\u001b[0mcblof\u001b[0m \u001b[1;32mimport\u001b[0m \u001b[0mCBLOF\u001b[0m\u001b[1;33m\u001b[0m\u001b[1;33m\u001b[0m\u001b[0m\n\u001b[0m\u001b[0;32m      2\u001b[0m \u001b[0mrandom_state\u001b[0m \u001b[1;33m=\u001b[0m \u001b[0mnp\u001b[0m\u001b[1;33m.\u001b[0m\u001b[0mrandom\u001b[0m\u001b[1;33m.\u001b[0m\u001b[0mRandomState\u001b[0m \u001b[1;33m(\u001b[0m\u001b[1;36m42\u001b[0m\u001b[1;33m)\u001b[0m\u001b[1;33m\u001b[0m\u001b[1;33m\u001b[0m\u001b[0m\n",
      "\u001b[1;31mModuleNotFoundError\u001b[0m: No module named 'pyod'"
     ]
    }
   ],
   "source": [
    "from pyod.models.cblof import CBLOF\n",
    "random_state = np.random.RandomState (42)"
   ]
  },
  {
   "cell_type": "markdown",
   "id": "c4fb3678",
   "metadata": {},
   "source": [
    "### Доля аномалий"
   ]
  },
  {
   "cell_type": "code",
   "execution_count": 41,
   "id": "6061de4b",
   "metadata": {},
   "outputs": [],
   "source": [
    "otliers_fraction = 0.25\n"
   ]
  },
  {
   "cell_type": "code",
   "execution_count": 47,
   "id": "e1f25a24",
   "metadata": {},
   "outputs": [
    {
     "ename": "NameError",
     "evalue": "name 'CBLOF' is not defined",
     "output_type": "error",
     "traceback": [
      "\u001b[1;31m---------------------------------------------------------------------------\u001b[0m",
      "\u001b[1;31mNameError\u001b[0m                                 Traceback (most recent call last)",
      "\u001b[1;32m~\\AppData\\Local\\Temp/ipykernel_7052/1220812552.py\u001b[0m in \u001b[0;36m<module>\u001b[1;34m\u001b[0m\n\u001b[1;32m----> 1\u001b[1;33m \u001b[0mclf\u001b[0m \u001b[1;33m=\u001b[0m \u001b[0mCBLOF\u001b[0m \u001b[1;33m(\u001b[0m\u001b[0malpha\u001b[0m \u001b[1;33m=\u001b[0m\u001b[1;36m0.9\u001b[0m\u001b[1;33m,\u001b[0m \u001b[0mbeta\u001b[0m \u001b[1;33m=\u001b[0m\u001b[1;36m5\u001b[0m\u001b[1;33m,\u001b[0m \u001b[0mcheck_estimator\u001b[0m \u001b[1;33m=\u001b[0m \u001b[1;32mFalse\u001b[0m\u001b[1;33m,\u001b[0m \u001b[0mclustering_estimator\u001b[0m \u001b[1;33m=\u001b[0m \u001b[1;32mNone\u001b[0m\u001b[1;33m,\u001b[0m \u001b[0mconstamination\u001b[0m \u001b[1;33m=\u001b[0m \u001b[1;36m0.25\u001b[0m\u001b[1;33m,\u001b[0m \u001b[0mn_clusters\u001b[0m \u001b[1;33m=\u001b[0m \u001b[1;36m8\u001b[0m\u001b[1;33m,\u001b[0m \u001b[0mn_jobs\u001b[0m \u001b[1;33m=\u001b[0m \u001b[1;36m1\u001b[0m\u001b[1;33m,\u001b[0m \u001b[0mrandom_state\u001b[0m \u001b[1;33m=\u001b[0m \u001b[0mrandom_state\u001b[0m\u001b[1;33m,\u001b[0m \u001b[0muse_weights\u001b[0m\u001b[1;33m=\u001b[0m \u001b[1;32mFalse\u001b[0m\u001b[1;33m)\u001b[0m\u001b[1;33m\u001b[0m\u001b[1;33m\u001b[0m\u001b[0m\n\u001b[0m",
      "\u001b[1;31mNameError\u001b[0m: name 'CBLOF' is not defined"
     ]
    }
   ],
   "source": [
    "clf = CBLOF (alpha =0.9, beta =5, check_estimator = False, clustering_estimator = None, constamination = 0.25, n_clusters = 8, n_jobs = 1, random_state = random_state, use_weights= False)"
   ]
  },
  {
   "cell_type": "markdown",
   "id": "b43a9450",
   "metadata": {},
   "source": [
    "### Используем fit_predict для вычисления прогнозных меток тренировочных выборок"
   ]
  },
  {
   "cell_type": "code",
   "execution_count": 48,
   "id": "cc7b8073",
   "metadata": {},
   "outputs": [
    {
     "ename": "NameError",
     "evalue": "name 'clf' is not defined",
     "output_type": "error",
     "traceback": [
      "\u001b[1;31m---------------------------------------------------------------------------\u001b[0m",
      "\u001b[1;31mNameError\u001b[0m                                 Traceback (most recent call last)",
      "\u001b[1;32m~\\AppData\\Local\\Temp/ipykernel_7052/3318189189.py\u001b[0m in \u001b[0;36m<module>\u001b[1;34m\u001b[0m\n\u001b[1;32m----> 1\u001b[1;33m \u001b[0mclf\u001b[0m\u001b[1;33m.\u001b[0m\u001b[0mfit\u001b[0m\u001b[1;33m(\u001b[0m\u001b[0mX\u001b[0m\u001b[1;33m)\u001b[0m\u001b[1;33m\u001b[0m\u001b[1;33m\u001b[0m\u001b[0m\n\u001b[0m\u001b[0;32m      2\u001b[0m \u001b[0mscores_pred\u001b[0m \u001b[1;33m=\u001b[0m \u001b[0mclf\u001b[0m\u001b[1;33m.\u001b[0m\u001b[0mdecision_function\u001b[0m\u001b[1;33m(\u001b[0m\u001b[0mX\u001b[0m\u001b[1;33m)\u001b[0m \u001b[1;33m*\u001b[0m \u001b[1;33m-\u001b[0m\u001b[1;36m1\u001b[0m\u001b[1;33m\u001b[0m\u001b[1;33m\u001b[0m\u001b[0m\n\u001b[0;32m      3\u001b[0m \u001b[0my_pred\u001b[0m \u001b[1;33m=\u001b[0m \u001b[0mclf\u001b[0m\u001b[1;33m.\u001b[0m\u001b[0mpredict\u001b[0m\u001b[1;33m(\u001b[0m\u001b[0mX\u001b[0m\u001b[1;33m)\u001b[0m\u001b[1;33m\u001b[0m\u001b[1;33m\u001b[0m\u001b[0m\n\u001b[0;32m      4\u001b[0m \u001b[0mn_errors\u001b[0m \u001b[1;33m=\u001b[0m \u001b[1;33m(\u001b[0m\u001b[0my_pred\u001b[0m \u001b[1;33m!=\u001b[0m \u001b[0mground_truth\u001b[0m\u001b[1;33m)\u001b[0m\u001b[1;33m.\u001b[0m\u001b[0msum\u001b[0m\u001b[1;33m(\u001b[0m\u001b[1;33m)\u001b[0m\u001b[1;33m\u001b[0m\u001b[1;33m\u001b[0m\u001b[0m\n",
      "\u001b[1;31mNameError\u001b[0m: name 'clf' is not defined"
     ]
    }
   ],
   "source": [
    "clf.fit(X)\n",
    "scores_pred = clf.decision_function(X) * -1\n",
    "y_pred = clf.predict(X)\n",
    "n_errors = (y_pred != ground_truth).sum()"
   ]
  },
  {
   "cell_type": "markdown",
   "id": "2a7d8208",
   "metadata": {},
   "source": [
    "### Отобразим прогноз на диаграмме"
   ]
  },
  {
   "cell_type": "code",
   "execution_count": 50,
   "id": "6a97746c",
   "metadata": {},
   "outputs": [
    {
     "data": {
      "text/plain": [
       "<function matplotlib.pyplot.show(close=None, block=None)>"
      ]
     },
     "execution_count": 50,
     "metadata": {},
     "output_type": "execute_result"
    },
    {
     "data": {
      "image/png": "[encoded data removed]",
      "text/plain": [
       "<Figure size 432x288 with 1 Axes>"
      ]
     },
     "metadata": {
      "needs_background": "light"
     },
     "output_type": "display_data"
    }
   ],
   "source": [
    "plt.title(\"cluster based local factor(CBLOF)\")\n",
    "plt.scatter(X[:,0],X[:,1], color ='k', s=3,label ='k')\n",
    "plt.show"
   ]
  },
  {
   "cell_type": "markdown",
   "id": "189779bd",
   "metadata": {},
   "source": [
    "### Построим курги с радиусами, пропорционально быллам аномальности"
   ]
  },
  {
   "cell_type": "code",
   "execution_count": 53,
   "id": "95146f0f",
   "metadata": {},
   "outputs": [
    {
     "ename": "NameError",
     "evalue": "name 'scores_pred' is not defined",
     "output_type": "error",
     "traceback": [
      "\u001b[1;31m---------------------------------------------------------------------------\u001b[0m",
      "\u001b[1;31mNameError\u001b[0m                                 Traceback (most recent call last)",
      "\u001b[1;32m~\\AppData\\Local\\Temp/ipykernel_7052/1319548919.py\u001b[0m in \u001b[0;36m<module>\u001b[1;34m\u001b[0m\n\u001b[1;32m----> 1\u001b[1;33m \u001b[0mradius\u001b[0m \u001b[1;33m=\u001b[0m \u001b[1;33m(\u001b[0m\u001b[0mscores_pred\u001b[0m\u001b[1;33m.\u001b[0m\u001b[0mmax\u001b[0m\u001b[1;33m(\u001b[0m\u001b[1;33m)\u001b[0m \u001b[1;33m-\u001b[0m \u001b[0mscores_pred\u001b[0m\u001b[1;33m)\u001b[0m \u001b[1;33m/\u001b[0m \u001b[1;33m(\u001b[0m\u001b[0mscores_pred\u001b[0m\u001b[1;33m.\u001b[0m\u001b[0mmax\u001b[0m\u001b[1;33m(\u001b[0m\u001b[1;33m)\u001b[0m\u001b[1;33m-\u001b[0m\u001b[0mscores_pred\u001b[0m\u001b[1;33m.\u001b[0m\u001b[0mmin\u001b[0m\u001b[1;33m)\u001b[0m\u001b[1;33m\u001b[0m\u001b[1;33m\u001b[0m\u001b[0m\n\u001b[0m",
      "\u001b[1;31mNameError\u001b[0m: name 'scores_pred' is not defined"
     ]
    }
   ],
   "source": [
    "radius = (scores_pred.max() - scores_pred) / (scores_pred.max()-scores_pred.min)"
   ]
  },
  {
   "cell_type": "code",
   "execution_count": null,
   "id": "347c2868",
   "metadata": {},
   "outputs": [],
   "source": []
  }
 ],
 "metadata": {
  "kernelspec": {
   "display_name": "Python 3 (ipykernel)",
   "language": "python",
   "name": "python3"
  },
  "language_info": {
   "codemirror_mode": {
    "name": "ipython",
    "version": 3
   },
   "file_extension": ".py",
   "mimetype": "text/x-python",
   "name": "python",
   "nbconvert_exporter": "python",
   "pygments_lexer": "ipython3",
   "version": "3.9.7"
  }
 },
 "nbformat": 4,
 "nbformat_minor": 5
}
